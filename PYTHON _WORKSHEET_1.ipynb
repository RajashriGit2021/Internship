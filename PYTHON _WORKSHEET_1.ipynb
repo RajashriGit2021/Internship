num=int(input("Enter the number:"))
print("Answer=",end = '')
fact=1
if num < 0:
   print("Sorry, factorial does not exist for negative numbers")
elif num == 0:
   print("The factorial of 0 is 1")
else:
    while(num>0):
        fact=fact*num
        #print("The factorial of",i,"is",fac)
        if num==1:
            print(num,end = '')
        else:
            print(num,"*", end = '')
        num=num-1
    print("=",fact)
